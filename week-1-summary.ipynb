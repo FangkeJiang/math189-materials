{
 "cells": [
  {
   "cell_type": "markdown",
   "id": "f5699a71",
   "metadata": {},
   "source": [
    "# Week 1 Summary\n",
    "> NAME: $\\color{red}{\\text{    <Fangke Jiang>     }}$\n",
    "> \n",
    "> PID: $\\color{red}{\\text{    <A16874367>     }}$\n",
    ">\n",
    "> \n",
    "---"
   ]
  },
  {
   "cell_type": "markdown",
   "id": "b0e61ba4-c23c-44b6-8933-ad5c5013a12d",
   "metadata": {},
   "source": [
    "I certify that the following write-up is my own work, and have abided by the UCSD Academic Integrity Guidelines.\n",
    "\n",
    "- [x] Yes\n",
    "- [ ] No"
   ]
  },
  {
   "cell_type": "markdown",
   "id": "2e3d69d4-fc3b-467c-867a-232ea44b034d",
   "metadata": {},
   "source": [
    "---"
   ]
  },
  {
   "cell_type": "markdown",
   "id": "de700466",
   "metadata": {},
   "source": [
    "## Key Takeaways from Week 2"
   ]
  },
  {
   "cell_type": "markdown",
   "id": "e89169e3",
   "metadata": {},
   "source": [
    "\n",
    "#### Wednesday: \n",
    "\n",
    "CDF,PDF,CDF, diagrams, Probability.Scipy, numpy, seaborn.\n",
    "\n"
   ]
  },
  {
   "cell_type": "markdown",
   "id": "56f24688",
   "metadata": {},
   "source": [
    "#### Friday: \n",
    "\n",
    "CLT,LLN,Discrete random variables.Poisson, t-stats, F test, chi-sqaured, exponential, binomial, discrete uniform random variable\n"
   ]
  },
  {
   "cell_type": "markdown",
   "id": "5928a1a1",
   "metadata": {},
   "source": [
    "---"
   ]
  },
  {
   "cell_type": "markdown",
   "id": "71b30092-0b40-4853-bee7-9fb6b040490d",
   "metadata": {},
   "source": [
    "%%latex\n",
    "\\newpage"
   ]
  },
  {
   "cell_type": "markdown",
   "id": "d9ac3593",
   "metadata": {},
   "source": [
    "## Wendesday, Jan 10th"
   ]
  },
  {
   "cell_type": "markdown",
   "id": "3d181512",
   "metadata": {},
   "source": [
    "On Wendesday, we covered the basics of Python programming and latex. We started with a brief introduction to Python and Jupyter notebooks, and then how to create sections for your documeny, bullet points and numbered lists. then we focus on math and how to type an eqaution with different color, and also math Macros. then we go over the basics like int, string and booleans and also arithmetics operations."
   ]
  },
  {
   "cell_type": "markdown",
   "id": "fcc9c9b6",
   "metadata": {},
   "source": [
    "$$\n",
    "\\newcommand{\\Xnmean}{\\frac{1}{n} \\sum_{i=1}^n X_i}\n",
    "\\boxed{\\color{red}{\\overline{X}} :=  \\Xnmean }\n",
    "$$"
   ]
  },
  {
   "cell_type": "markdown",
   "id": "e02f86aa",
   "metadata": {},
   "source": [
    "$\\Xnmean$"
   ]
  },
  {
   "cell_type": "code",
   "execution_count": 1,
   "id": "cb35fc80",
   "metadata": {},
   "outputs": [
    {
     "data": {
      "text/plain": [
       "int"
      ]
     },
     "execution_count": 1,
     "metadata": {},
     "output_type": "execute_result"
    }
   ],
   "source": [
    "type(1)"
   ]
  },
  {
   "cell_type": "code",
   "execution_count": 12,
   "id": "3462c7f2",
   "metadata": {},
   "outputs": [
    {
     "data": {
      "text/plain": [
       "float"
      ]
     },
     "execution_count": 12,
     "metadata": {},
     "output_type": "execute_result"
    }
   ],
   "source": [
    "type(1.0)"
   ]
  },
  {
   "cell_type": "code",
   "execution_count": 13,
   "id": "a6a79c9b",
   "metadata": {},
   "outputs": [
    {
     "data": {
      "text/plain": [
       "bool"
      ]
     },
     "execution_count": 13,
     "metadata": {},
     "output_type": "execute_result"
    }
   ],
   "source": [
    "type(True)"
   ]
  },
  {
   "cell_type": "code",
   "execution_count": 15,
   "id": "2723a414",
   "metadata": {},
   "outputs": [
    {
     "data": {
      "text/plain": [
       "str"
      ]
     },
     "execution_count": 15,
     "metadata": {},
     "output_type": "execute_result"
    }
   ],
   "source": [
    "type('abcd')"
   ]
  },
  {
   "cell_type": "code",
   "execution_count": 16,
   "id": "bc3419eb",
   "metadata": {},
   "outputs": [
    {
     "data": {
      "text/plain": [
       "[(13, int),\n",
       " (7, int),\n",
       " (30, int),\n",
       " (3.3333333333333335, float),\n",
       " (3, int),\n",
       " (1, int),\n",
       " (1000, int)]"
      ]
     },
     "execution_count": 16,
     "metadata": {},
     "output_type": "execute_result"
    }
   ],
   "source": [
    "operations_int = [\n",
    "    10 + 3, \n",
    "    10 - 3, \n",
    "    10 * 3, \n",
    "    10 / 3, \n",
    "    10 // 3, \n",
    "    10 % 3, \n",
    "    10 ** 3\n",
    "]\n",
    "\n",
    "[(x, type(x)) for x in operations_int]"
   ]
  },
  {
   "cell_type": "markdown",
   "id": "e43a316a",
   "metadata": {},
   "source": [
    "## Friday, Jan 12th"
   ]
  },
  {
   "cell_type": "markdown",
   "id": "36ae94c2",
   "metadata": {},
   "source": [
    "On Friday, we covered the basics of Python programming. We covered data structures, list, tuples, sets, variables, loops, conditionals, and functions. We also covered the basics of the four main data structures in Python: lists, tuples, dictionaries, and sets.\n",
    "\n",
    "Key concepts covered:\n",
    "\n",
    "- **Data Structures:** Understanding of Lists, Tuples, Dictionaries, and Sets.\n",
    "- **Basic Syntax and Operations:** Familiarity with Python syntax, including variables, loops, conditionals, and functions.\n"
   ]
  },
  {
   "cell_type": "code",
   "execution_count": 1,
   "id": "20b3eac4",
   "metadata": {},
   "outputs": [
    {
     "data": {
      "text/plain": [
       "[1, 2, 3, 10, 4, 5, 6]"
      ]
     },
     "execution_count": 1,
     "metadata": {},
     "output_type": "execute_result"
    }
   ],
   "source": [
    "# List example\n",
    "my_list = [1, 2, 3]\n",
    "my_list.append(10) # Appending elements\n",
    "my_list + [4, 5, 6] # Concatenating lists"
   ]
  },
  {
   "cell_type": "code",
   "execution_count": 2,
   "id": "df358218",
   "metadata": {},
   "outputs": [
    {
     "data": {
      "text/plain": [
       "(1, 2, 3, 4, 5, 6)"
      ]
     },
     "execution_count": 2,
     "metadata": {},
     "output_type": "execute_result"
    }
   ],
   "source": [
    "# Tuple example\n",
    "my_tuple = (1, 2, 3)\n",
    "# my_tuple.append(10) # Error! Tuples are immutable\n",
    "my_tuple + (4, 5, 6) # Concatenating tuples"
   ]
  },
  {
   "cell_type": "code",
   "execution_count": 3,
   "id": "5096bd1f",
   "metadata": {},
   "outputs": [
    {
     "name": "stdout",
     "output_type": "stream",
     "text": [
      "Keys: dict_keys(['a', 'b'])\n",
      "Values: dict_values([1, 2])\n",
      "Items: dict_items([('a', 1), ('b', 2)])\n"
     ]
    }
   ],
   "source": [
    "# Dictionary example\n",
    "my_dict = {'a': 1, 'b': 2}\n",
    "print(f'Keys: {my_dict.keys()}') # Returns a list of keys\n",
    "print(f'Values: {my_dict.values()}') # Returns a list of values\n",
    "print(f'Items: {my_dict.items()}') # Returns a list of tuples"
   ]
  },
  {
   "cell_type": "code",
   "execution_count": 4,
   "id": "22f1e8d6",
   "metadata": {},
   "outputs": [
    {
     "name": "stdout",
     "output_type": "stream",
     "text": [
      "Union: {1, 2, 3, 5}\n",
      "Intersection: {2, 3}\n",
      "Difference: {1}\n",
      "Symmetric difference: {1, 5}\n"
     ]
    }
   ],
   "source": [
    "# Set example\n",
    "my_set_1 = {1, 2, 3}\n",
    "my_set_2 = {2, 5, 3}\n",
    "print(f'Union: {my_set_1 | my_set_2}') # Union\n",
    "print(f'Intersection: {my_set_1 & my_set_2}') # Intersection\n",
    "print(f'Difference: {my_set_1 - my_set_2}') # Difference\n",
    "print(f'Symmetric difference: {my_set_1 ^ my_set_2}') # Symmetric difference"
   ]
  },
  {
   "cell_type": "markdown",
   "id": "47b88afc",
   "metadata": {},
   "source": [
    "\n",
    "Functions and Lambda Functions in Python\n",
    "- **Functions:**\n",
    "  - Defined using the `def` keyword.\n",
    "  - Can take arguments and return values.\n",
    "\n",
    "- **Lambda Functions:** A concise way to write functions in a single line.\n",
    "  - Useful for simple functions that are used once or a few times.\n",
    "  - Often used with functions like `map()`, `filter()`, and in Pandas operations."
   ]
  },
  {
   "cell_type": "code",
   "execution_count": 5,
   "id": "0b8b5167",
   "metadata": {},
   "outputs": [
    {
     "data": {
      "text/plain": [
       "25"
      ]
     },
     "execution_count": 5,
     "metadata": {},
     "output_type": "execute_result"
    }
   ],
   "source": [
    "# Defining a simple function\n",
    "def sum_of_squares(a, b):\n",
    "    return a**2 + b**2\n",
    "sum_of_squares(3, 4)"
   ]
  },
  {
   "cell_type": "code",
   "execution_count": 7,
   "id": "da06e458",
   "metadata": {},
   "outputs": [
    {
     "data": {
      "text/plain": [
       "25"
      ]
     },
     "execution_count": 7,
     "metadata": {},
     "output_type": "execute_result"
    }
   ],
   "source": [
    "# Lambda function equivalent\n",
    "sum_of_squares_lambda = lambda a, b: a**2 + b**2\n",
    "\n",
    "sum_of_squares_lambda(3, 4)"
   ]
  },
  {
   "cell_type": "markdown",
   "id": "97cba7b9",
   "metadata": {},
   "source": [
    "then we did a refresher on linear algebra, and how to perform linear algebraic operations using the `NumPy` package. \n",
    "\n",
    "This included: \n",
    "\n",
    "* creating vectors and matrices, \n",
    "* performing matrix multiplication, \n",
    "* computing norms and dot products of vectors, \n",
    "* computing determinants, trace and inverse of a matrix, \n",
    "* computing eigenvalues and eigenvectors, and\n",
    "* solving a system of linear equations."
   ]
  },
  {
   "cell_type": "markdown",
   "id": "ad2d56af",
   "metadata": {},
   "source": [
    "Creating vectors, matrices, and some basic operations:"
   ]
  },
  {
   "cell_type": "code",
   "execution_count": 7,
   "id": "27cef97f",
   "metadata": {},
   "outputs": [
    {
     "name": "stdout",
     "output_type": "stream",
     "text": [
      "Vector:\n",
      " [1 2 3]\n",
      "\n",
      "Matrix:\n",
      " [[1 2 3]\n",
      " [4 5 6]\n",
      " [7 8 9]]\n",
      "\n",
      "Product:\n",
      " [14 32 50]\n",
      "\n"
     ]
    }
   ],
   "source": [
    "import numpy as np\n",
    "\n",
    "# Creating vectors and matrices\n",
    "vector = np.array([1, 2, 3])\n",
    "matrix = np.array([[1, 2, 3], [4, 5, 6], [7, 8, 9]])\n",
    "\n",
    "print(f'Vector:\\n {vector}\\n')\n",
    "print(f'Matrix:\\n {matrix}\\n')\n",
    "\n",
    "\n",
    "product = np.dot(matrix, vector)\n",
    "print(f'Product:\\n {product}\\n')"
   ]
  },
  {
   "cell_type": "markdown",
   "id": "b0659f26",
   "metadata": {},
   "source": [
    "Basic linear algebra operations:"
   ]
  },
  {
   "cell_type": "code",
   "execution_count": 8,
   "id": "d9d393ea",
   "metadata": {},
   "outputs": [
    {
     "name": "stdout",
     "output_type": "stream",
     "text": [
      "Adding vectors: [2 4 6]\n",
      "\n",
      "dot product: 14\n",
      "\n",
      "norm: 3.7416573867739413\n",
      "\n",
      "Matrix transpose:\n",
      " [[1 4 7]\n",
      " [2 5 8]\n",
      " [3 6 9]]\n",
      "\n",
      "Matrix inverse:\n",
      " [[ 3.15251974e+15 -6.30503948e+15  3.15251974e+15]\n",
      " [-6.30503948e+15  1.26100790e+16 -6.30503948e+15]\n",
      " [ 3.15251974e+15 -6.30503948e+15  3.15251974e+15]]\n",
      "\n"
     ]
    }
   ],
   "source": [
    "print(f'Adding vectors: {vector + vector}\\n')\n",
    "print(f'dot product: {np.dot(vector, vector)}\\n')\n",
    "print(f'norm: {np.linalg.norm(vector)}\\n')\n",
    "print(f'Matrix transpose:\\n {matrix.transpose()}\\n')\n",
    "print(f'Matrix inverse:\\n {np.linalg.inv(matrix)}\\n')"
   ]
  },
  {
   "cell_type": "markdown",
   "id": "334f2192",
   "metadata": {},
   "source": [
    "Slightly more advanced linear algebra operations:"
   ]
  },
  {
   "cell_type": "code",
   "execution_count": 9,
   "id": "17da9f42",
   "metadata": {},
   "outputs": [
    {
     "name": "stdout",
     "output_type": "stream",
     "text": [
      "Solution:\n",
      " [2. 3.]\n",
      "\n",
      "Eigenvalues:\n",
      " [3.61803399 1.38196601]\n",
      "\n",
      "Eigenvectors:\n",
      " [[ 0.85065081 -0.52573111]\n",
      " [ 0.52573111  0.85065081]]\n",
      "\n"
     ]
    }
   ],
   "source": [
    "# Solving a system of linear equations\n",
    "A = np.array([[3, 1], [1, 2]])\n",
    "b = np.array([9, 8])\n",
    "solution = np.linalg.solve(A, b)\n",
    "print(f'Solution:\\n {solution}\\n')\n",
    "\n",
    "# Matrix eigenvalues and eigenvectors\n",
    "eigenvalues, eigenvectors = np.linalg.eig(A)\n",
    "print(f'Eigenvalues:\\n {eigenvalues}\\n')\n",
    "print(f'Eigenvectors:\\n {eigenvectors}\\n')"
   ]
  },
  {
   "cell_type": "markdown",
   "id": "05187baf",
   "metadata": {},
   "source": [
    "---"
   ]
  },
  {
   "cell_type": "markdown",
   "id": "e6be712f-4560-4b32-ac50-b3db9cfaad0a",
   "metadata": {},
   "source": [
    "%%latex \n",
    "\\newpage"
   ]
  },
  {
   "cell_type": "markdown",
   "id": "3525e5fa",
   "metadata": {},
   "source": [
    "## Wen, Jan 17th"
   ]
  },
  {
   "cell_type": "markdown",
   "id": "39c814b7",
   "metadata": {},
   "source": [
    "We focused on review of probability and statistical inference, PMF,CDF,PDF, Expected value and Variance.\n",
    "also talks about scipy, pandas, numpy."
   ]
  },
  {
   "cell_type": "code",
   "execution_count": 15,
   "id": "ae98dd63",
   "metadata": {},
   "outputs": [],
   "source": [
    "import numpy as np\n",
    "import pandas as pd\n",
    "import seaborn as sns\n",
    "import matplotlib.pyplot as plt\n",
    "import scipy.stats as stats\n",
    "\n",
    "import ipywidgets as widgets\n",
    "from ipywidgets import interact"
   ]
  },
  {
   "cell_type": "markdown",
   "id": "29db18c5",
   "metadata": {},
   "source": [
    "### 1.1\n",
    "* Empiricial Probability: based on repeatedly observing the outcome of an event\n",
    "$$\n",
    "P(A) = \\frac{\\text{Number of times A occurs}}{\\text{number of trials}}\n",
    "$$\n",
    "* Theoretical Probability: based on the assumption of a model\n",
    "$$\n",
    "P(A) = \\frac{\\text{Number of ways A can occur}}{\\text{number of possible outcomes}}\n",
    "$$\n",
    "* Subjective Probability: based on a person's opinion\n",
    "$$\n",
    "P(A) =  {\\text{degree of belief that A will occur}}\n",
    "$$"
   ]
  },
  {
   "cell_type": "markdown",
   "id": "5ef019ae",
   "metadata": {},
   "source": [
    "### 1.2\n",
    "Random Variables: A random variable, usually denoted X, is a variable whose value is a numerical outcome of arandom\n",
    "phenomenon.\n",
    "The distribution of the random variable describes the probability of each possible outcome, and isdenoted by X~ D($\\theta$) for some parameter of interest $\\theta$.\n",
    "* X~N(μ, σ^2)"
   ]
  },
  {
   "cell_type": "markdown",
   "id": "734043e8",
   "metadata": {},
   "source": [
    "The support of a random variables, supp(X), is the set of all possible values it can take.\n",
    "* A discrete random variable is a random variable for which supp(X) is finite or countably infinite number of values.\n",
    "* A continuous random variable is a random variable for which supp(X) is in an interval on thereal line, or the entire real line iteself."
   ]
  },
  {
   "cell_type": "markdown",
   "id": "07df585e",
   "metadata": {},
   "source": [
    "### 1.3 Probability Mass Function (PMF)\n",
    "The probability mass function (PMF) of a discrete random variable $X$ is a function $p_x$ that givesthe probability that $X$ is exactly equal to some value.\n",
    "$$\n",
    "p_X(x)= \\pr(X=x)\n",
    "$$\n",
    "\n",
    "eg.x_ber=stats.bernoulli(0.8)"
   ]
  },
  {
   "cell_type": "markdown",
   "id": "0df9be98",
   "metadata": {},
   "source": [
    "### 1.4 Probability Density Function (PDF)\n",
    "The probability density function (PDF) of a continuous random variable $X$ is a function $f_x$ that gives the probability that $X$ is in a particular interval.\n",
    "$$\n",
    "  P(a \\leq X \\leq b) = \\int_a^b f_X(x)\\,dx\n",
    "$$"
   ]
  },
  {
   "cell_type": "markdown",
   "id": "e6a9f9c6",
   "metadata": {},
   "source": [
    "### 1.5 Cumulative Distribution Function (CDF)\n",
    "* The **cumulative distribution function** (CDF)of a random variable $X$ is afunction $F_X$ that gives the probability that $X$ is less than or equal to a particular value.\n",
    "\n",
    "$$\n",
    "F_X(x)= \\pr(x \\leq x)\n",
    "$$\n",
    "\n",
    "Using the PDF/PMF the CDF is given by\n",
    "\n",
    "$$\n",
    "FX(x)=\\begin{cases}\n",
    "\\displaystyle\\sum_{y \\leg x} p_X(y) & \\text{if } X \\text{ is discrete}\\\\ \\\\ \n",
    "\\displaystyle\\int_{-\\infty}^x f_X(y)dy & \\text{if }X \\text{ is continuous} \\\\\n",
    "\\end{cases}"
   ]
  },
  {
   "cell_type": "code",
   "execution_count": 16,
   "id": "6e034b83",
   "metadata": {},
   "outputs": [
    {
     "data": {
      "text/plain": [
       "False"
      ]
     },
     "execution_count": 16,
     "metadata": {},
     "output_type": "execute_result"
    }
   ],
   "source": [
    "isinstance(stats.poisson(1).dist, stats.rv_continuous)"
   ]
  },
  {
   "cell_type": "code",
   "execution_count": 17,
   "id": "43545963",
   "metadata": {},
   "outputs": [
    {
     "ename": "NameError",
     "evalue": "name 'plot_pdf' is not defined",
     "output_type": "error",
     "traceback": [
      "\u001b[0;31m---------------------------------------------------------------------------\u001b[0m",
      "\u001b[0;31mNameError\u001b[0m                                 Traceback (most recent call last)",
      "\u001b[0;32m/tmp/ipykernel_128/2411294268.py\u001b[0m in \u001b[0;36m<module>\u001b[0;34m\u001b[0m\n\u001b[1;32m      1\u001b[0m \u001b[0mfig\u001b[0m\u001b[0;34m,\u001b[0m \u001b[0max\u001b[0m\u001b[0;34m=\u001b[0m \u001b[0mplt\u001b[0m\u001b[0;34m.\u001b[0m\u001b[0msubplots\u001b[0m\u001b[0;34m(\u001b[0m\u001b[0;36m1\u001b[0m\u001b[0;34m,\u001b[0m\u001b[0;36m1\u001b[0m\u001b[0;34m,\u001b[0m\u001b[0mfigsize\u001b[0m\u001b[0;34m=\u001b[0m\u001b[0;34m(\u001b[0m\u001b[0;36m4\u001b[0m\u001b[0;34m,\u001b[0m\u001b[0;36m4\u001b[0m\u001b[0;34m)\u001b[0m\u001b[0;34m)\u001b[0m\u001b[0;34m\u001b[0m\u001b[0;34m\u001b[0m\u001b[0m\n\u001b[1;32m      2\u001b[0m \u001b[0mX\u001b[0m\u001b[0;34m=\u001b[0m \u001b[0mstats\u001b[0m\u001b[0;34m.\u001b[0m\u001b[0mnorm\u001b[0m\u001b[0;34m(\u001b[0m\u001b[0;36m0.0\u001b[0m\u001b[0;34m,\u001b[0m\u001b[0;36m1.0\u001b[0m\u001b[0;34m)\u001b[0m\u001b[0;34m\u001b[0m\u001b[0;34m\u001b[0m\u001b[0m\n\u001b[0;32m----> 3\u001b[0;31m \u001b[0mplot_pdf\u001b[0m\u001b[0;34m(\u001b[0m\u001b[0mX\u001b[0m\u001b[0;34m,\u001b[0m\u001b[0max\u001b[0m\u001b[0;34m)\u001b[0m\u001b[0;34m\u001b[0m\u001b[0;34m\u001b[0m\u001b[0m\n\u001b[0m",
      "\u001b[0;31mNameError\u001b[0m: name 'plot_pdf' is not defined"
     ]
    },
    {
     "data": {
      "image/png": "[encoded data removed]",
      "text/plain": [
       "<Figure size 288x288 with 1 Axes>"
      ]
     },
     "metadata": {
      "needs_background": "light"
     },
     "output_type": "display_data"
    }
   ],
   "source": [
    "fig, ax= plt.subplots(1,1,figsize=(4,4))\n",
    "X= stats.norm(0.0,1.0)\n",
    "plot_pdf(X,ax)"
   ]
  },
  {
   "cell_type": "markdown",
   "id": "d3bb3d51",
   "metadata": {},
   "source": [
    "### 1.5 Expected Value\n",
    "* The **expected value** of a random variable $X$ is, roughly speaking, the averagevalue of $X$ over many repetitions of the experiment.\n",
    "\n",
    "$$\n",
    "\\begin{aligned}\n",
    "\\mathbb{E}(X) &= \\sum_{x \\in \\text{supp}(X)}x \\cdot p_X(x) &&\\text{if } X \\text{ is discrete}\\\\ \\\\\n",
    "\\mathbb{E}(X) &= \\int_{-\\infty}^\\infty x \\cdot f_x(x)dx &&\\text{if } X \\text{ is continuous}\\\\\n",
    "\\end{aligned}\n",
    "$$\n",
    "For Bernoulli, E(x)=p\n",
    "For Normal distribution, E(x)=u"
   ]
  },
  {
   "cell_type": "markdown",
   "id": "4ef7942e",
   "metadata": {},
   "source": [
    "### 1.6 Variance\n",
    "The variance of a random variable $X$ is a measure of how much the values of $X$ vary as we repeat the experiment.\n",
    "$$\n",
    "Var(x)=E(X^2)-E(X)^2\n",
    "$$"
   ]
  },
  {
   "cell_type": "code",
   "execution_count": null,
   "id": "12a0fb54",
   "metadata": {},
   "outputs": [],
   "source": []
  },
  {
   "cell_type": "markdown",
   "id": "677c26ba",
   "metadata": {},
   "source": [
    "## Fri, Jan 19th"
   ]
  },
  {
   "cell_type": "markdown",
   "id": "44e9f434",
   "metadata": {},
   "source": [
    "For Friday, we review the topics of stats that were go over on Wendsday and show some diagrams to furthur explain these concepts. We also talks about Law of Large numbers and CLT. We use PDF CDF diagram to show some of these theorm and definition."
   ]
  },
  {
   "cell_type": "markdown",
   "id": "5da60464",
   "metadata": {},
   "source": [
    "### Binomial Random Variables\n",
    "X ~ Bin(n, p) is a random variable that can take on values 0, 1, 2, ... , n.\n",
    "\n",
    "E(X)=np and Var(X)=np(1-p)"
   ]
  },
  {
   "cell_type": "markdown",
   "id": "ff89df0f",
   "metadata": {},
   "source": [
    "### Central limit therom: \n",
    "as n goes to infinity, CDF is going to look more like a normal distribution. The Central Limit Theorem says that as the number of observations increases, the distribution of the observed values gets closer and closer to the normal distribution.\n",
    "### LLN:\n",
    "The Law of Large Numbers says that as the number of observations increases, the average of the observed values gets closer and closeto the expected value."
   ]
  },
  {
   "cell_type": "markdown",
   "id": "96fdfa17",
   "metadata": {},
   "source": [
    "### Discrete Uniform Random Variable\n",
    "X ~ Unif( { a, b }) is a discrete uniform random variable that can take on values a, a + 1, a + 2, ... , b.\n",
    "$$E(x)=(a+b)/2 and Var(X)= (b-a+1)^2-1/12$$"
   ]
  },
  {
   "cell_type": "markdown",
   "id": "8cc0c7b7",
   "metadata": {},
   "source": [
    "### Poisson Random Variable\n",
    "X ~ Poi($\\lambda$) is a random variable that can take on values 0, 1, 2, .....\n",
    "$$E(x)=\\lambda=Var(x)$$"
   ]
  },
  {
   "cell_type": "markdown",
   "id": "87b71116",
   "metadata": {},
   "source": [
    "### Exponential Random Variable\n",
    "X~ Exp($\\lambda$) is a random variable that can take on values (0, infinity).\n",
    "$$E(x)=1/\\lambda, Var(x)=1/\\lambda^2 $$"
   ]
  },
  {
   "cell_type": "markdown",
   "id": "f6acb2ab",
   "metadata": {},
   "source": [
    "### Chi-Squared Random Variable\n",
    "X~ x²(k) is a random variable that can take on values (0, infinity).\n",
    "$$ E(x)=k, Var(x)=2k $$\n",
    "k: degrees of freedom"
   ]
  },
  {
   "cell_type": "markdown",
   "id": "1a7d1e10",
   "metadata": {},
   "source": [
    "### Student's t Random Variable\n",
    "X~ t(k) is a random variable that can take on values (-infinity, infinity)"
   ]
  },
  {
   "cell_type": "markdown",
   "id": "bbdbb749",
   "metadata": {},
   "source": [
    "### F Random Variable\n",
    "X ~ F(k1,k2) is a random variable that can take on values (0, ∞).\n",
    "k1,k2 are two degrees pf freedom."
   ]
  },
  {
   "cell_type": "markdown",
   "id": "04e3708f",
   "metadata": {},
   "source": [
    "# Week3"
   ]
  },
  {
   "cell_type": "markdown",
   "id": "0b9b19db",
   "metadata": {},
   "source": [
    "## Mon, Jan 22th"
   ]
  },
  {
   "cell_type": "markdown",
   "id": "43ef11bf",
   "metadata": {},
   "source": [
    "agenda: confidence interval for proportions"
   ]
  },
  {
   "cell_type": "code",
   "execution_count": 2,
   "id": "663fd34a",
   "metadata": {},
   "outputs": [],
   "source": [
    "import numpy as np\n",
    "import pandas as pd\n",
    "import seaborn as sns\n",
    "import matplotlib.pyplot as plt\n",
    "import seaborn as sns\n",
    "import scipy.stats as stats\n",
    "\n",
    "import ipywidgets as widgets\n",
    "from ipywidgets import interact, fixed\n",
    "%matplotlib inline\n"
   ]
  },
  {
   "cell_type": "code",
   "execution_count": 3,
   "id": "a8717190",
   "metadata": {},
   "outputs": [],
   "source": [
    "def plot_X(X, ax, type='pmf', **kwargs):\n",
    "    ax.set_xlabel('Support')\n",
    "    ax.set_title(f'{X.dist.name}{X.args}')\n",
    "\n",
    "    min_X, max_X = X.ppf((1e-3, 1-1e-3))\n",
    "    supp_X = np.linspace(min_X, max_X + 1, 200)\n",
    "\n",
    "    if type == 'pmf':\n",
    "        supp_X = np.arange(min_X, max_X + 1)\n",
    "        ax.bar(supp_X, X.pmf(supp_X), **kwargs)\n",
    "        ax.set_ylabel('PMF')\n",
    "\n",
    "    elif type == 'pdf':\n",
    "        ax.plot(supp_X, X.pdf(supp_X), **kwargs)\n",
    "        ax.set_ylabel('PDF')\n",
    "\n",
    "    elif type == 'cdf':\n",
    "        ax.plot(supp_X, X.cdf(supp_X), **kwargs)\n",
    "        ax.set_ylabel('CDF')\n",
    "\n",
    "    else:\n",
    "        raise ValueError('type must be pmf or cdf')\n"
   ]
  },
  {
   "cell_type": "markdown",
   "id": "68365238",
   "metadata": {},
   "source": [
    "## 1.preliminaries"
   ]
  },
  {
   "cell_type": "markdown",
   "id": "9ca85f97",
   "metadata": {},
   "source": [
    "Sampling Distributions\n",
    "\n",
    "- a sample of size n from a distribution  D  with parameter $\\theta$.\n",
    "- Let $\\theta$ be a statistic computed from the sample \\( X_1, X_2, \\ldots, X_n \\):\n",
    "  - This statistic is our best guess for the parameter $\\theta$.\n",
    "  - Since X_1... X_n are random variables, $\\theta$ hat is also random.\n",
    "\n",
    "The Sampling distribution of $\\theta$ hat is the distribution of $\\theta$ hat when  X_1..... X_n are drawn from D($\\theta$).\n",
    "The sampling distribution depends on:\n",
    "- the distribution D,\n",
    "- the parameter ($\\theta$), and\n",
    "- the sample size n.\n"
   ]
  },
  {
   "cell_type": "code",
   "execution_count": 4,
   "id": "697055cd",
   "metadata": {},
   "outputs": [
    {
     "data": {
      "image/png": "[encoded data removed]",
      "text/plain": [
       "<Figure size 720x360 with 2 Axes>"
      ]
     },
     "metadata": {
      "needs_background": "light"
     },
     "output_type": "display_data"
    }
   ],
   "source": [
    "#bernouli\n",
    "p = 0.4134\n",
    "n, N = 100, 500\n",
    "theta_hats = [stats.bernoulli(p).rvs(n).sum() for _ in range(N)]\n",
    "fig, ax = plt.subplots(1, 2, figsize=(10, 5))\n",
    "sns.histplot(theta_hats, ax=ax[0], stat='density', color='red')\n",
    "plot_X(stats.binom(n, p), ax[1], type='pmf')\n",
    "#left:empirical distribution right:exact sampling distribution"
   ]
  },
  {
   "cell_type": "code",
   "execution_count": 5,
   "id": "d8eac236",
   "metadata": {},
   "outputs": [
    {
     "data": {
      "image/png": "[encoded data removed]",
      "text/plain": [
       "<Figure size 360x360 with 1 Axes>"
      ]
     },
     "metadata": {
      "needs_background": "light"
     },
     "output_type": "display_data"
    }
   ],
   "source": [
    "#normal\n",
    "mu, sigma = 3.141, 2.718\n",
    "n, N = 100, 10000\n",
    "theta_hats = [stats.norm(mu, sigma).rvs(n).mean() for _ in range(N)]\n",
    "fig, ax = plt.subplots(1, 1, figsize=(5, 5))\n",
    "sns.histplot(theta_hats, ax=ax, stat='density', color='red')\n",
    "plot_X(stats.norm(mu, sigma/np.sqrt(n)), ax, type='pdf')\n"
   ]
  },
  {
   "cell_type": "code",
   "execution_count": 6,
   "id": "c286a05c",
   "metadata": {},
   "outputs": [
    {
     "data": {
      "application/vnd.jupyter.widget-view+json": {
       "model_id": "c1f38ee0d4ea4314a3f7c504cef88d91",
       "version_major": 2,
       "version_minor": 0
      },
      "text/plain": [
       "interactive(children=(IntSlider(value=16, description='n', max=30, min=2), FloatSlider(value=0.0, description=…"
      ]
     },
     "metadata": {},
     "output_type": "display_data"
    },
    {
     "data": {
      "image/png": "[encoded data removed]",
      "text/plain": [
       "<Figure size 360x360 with 1 Axes>"
      ]
     },
     "metadata": {
      "needs_background": "light"
     },
     "output_type": "display_data"
    }
   ],
   "source": [
    "@interact(n=(2, 30, 1), mu=(-3, 3, 0.1), sigma=(0.1, 5.0, 0.1))\n",
    "def sampling_distribution(n, mu, sigma):\n",
    "    N = 1000\n",
    "    mu_hats, sigma_hats, theta_hats = (np.zeros(N) for _ in range(3))\n",
    "    \n",
    "    for i in range(N):\n",
    "        Xn = stats.norm(mu, sigma).rvs(n)\n",
    "        mu_hats[i] = Xn.mean() #x bar\n",
    "        sigma_hats[i] = Xn.std(ddof=1) #sigma hat\n",
    "        theta_hats[i] = (mu_hats[i] - mu) / (sigma_hats[i] / np.sqrt(n))\n",
    "    \n",
    "    fig, ax = plt.subplots(1, 1, figsize=(5, 5))\n",
    "    sns.histplot(theta_hats, ax=ax, stat='density', color='red', bins=50)\n",
    "    plot_X(stats.norm(), ax, type='pdf', color='black', linestyle='--')\n",
    "    plot_X(stats.t(n-1), ax, type='pdf')\n",
    "    #blueline defines exact sample distribution\n",
    "#when n is samll, the black dot line underestimate "
   ]
  },
  {
   "cell_type": "code",
   "execution_count": 7,
   "id": "1f9964dd",
   "metadata": {},
   "outputs": [
    {
     "data": {
      "image/png": "[encoded data removed]",
      "text/plain": [
       "<Figure size 360x360 with 1 Axes>"
      ]
     },
     "metadata": {
      "needs_background": "light"
     },
     "output_type": "display_data"
    }
   ],
   "source": [
    "lambda_ = np.exp(0.5)\n",
    "n, N = 5, 5000\n",
    "theta_hats = [stats.expon(lambda_).rvs(n).sum() for _ in range(N)]\n",
    "\n",
    "fig, ax = plt.subplots(1, 1, figsize=(5, 5))\n",
    "sns.histplot(theta_hats, ax=ax, stat='density', color='red')\n",
    "plot_X(stats.gamma(n, n * lambda_), ax, type='pdf')\n",
    "#n increase, excact sampling distribution approach to normal(CLT)\n",
    "#N increase, empirical"
   ]
  },
  {
   "cell_type": "markdown",
   "id": "5dac8b5c",
   "metadata": {},
   "source": []
  },
  {
   "cell_type": "markdown",
   "id": "6bebef88",
   "metadata": {},
   "source": [
    "### Confidence Intervals\n",
    "\n",
    "The $100 \\times (1 - \\alpha)\\%$ confidence interval for a parameter $\\theta$ is an interval $[\\theta_{\\alpha}, \\theta_{u_{\\alpha}}]$ such that:\n",
    "\n",
    "$$P(\\theta_{\\alpha} \\leq \\theta \\leq \\theta_{u_{\\alpha}}) = 1 - \\alpha$$\n",
    "\n",
    "Let's assume that I know the true value of $\\theta$ to be $\\theta = 0.646$\n"
   ]
  },
  {
   "cell_type": "code",
   "execution_count": 8,
   "id": "3e1169ab",
   "metadata": {},
   "outputs": [
    {
     "data": {
      "text/plain": [
       "array([1, 1, 1, 1, 1, 0, 1, 1, 1, 1, 1, 1, 0, 1, 0, 1, 1, 1, 0, 0, 0, 0,\n",
       "       1, 1, 0, 1, 0, 0, 1, 0, 1, 0, 1, 1, 1, 1, 1, 0, 1, 0, 1, 0, 0, 0,\n",
       "       1, 1, 1, 1, 1, 1, 1, 1, 0, 1, 1, 1, 1, 1, 1, 0, 1, 0, 0, 1, 1, 1,\n",
       "       1, 1, 0, 1, 0, 1, 1, 1, 1, 1, 0, 1, 1, 1, 1, 0, 1, 0, 1, 0, 1, 0,\n",
       "       1, 1, 0, 0, 0, 0, 0, 0, 1, 1, 1, 1])"
      ]
     },
     "execution_count": 8,
     "metadata": {},
     "output_type": "execute_result"
    }
   ],
   "source": [
    "theta_true = 0.646\n",
    "\n",
    "def ask_survey(n):\n",
    "    return stats.bernoulli.rvs(theta_true, size=n)\n",
    "\n",
    "responses = ask_survey(100)\n",
    "responses\n"
   ]
  },
  {
   "cell_type": "code",
   "execution_count": 9,
   "id": "1fded6cb",
   "metadata": {},
   "outputs": [
    {
     "data": {
      "text/plain": [
       "0.66"
      ]
     },
     "execution_count": 9,
     "metadata": {},
     "output_type": "execute_result"
    }
   ],
   "source": [
    "theta_hat=np.mean(responses)\n",
    "theta_hat"
   ]
  },
  {
   "cell_type": "code",
   "execution_count": 10,
   "id": "a97c5d31",
   "metadata": {},
   "outputs": [
    {
     "data": {
      "text/plain": [
       "0.014000000000000012"
      ]
     },
     "execution_count": 10,
     "metadata": {},
     "output_type": "execute_result"
    }
   ],
   "source": [
    "abs(theta_hat-theta_true)"
   ]
  },
  {
   "cell_type": "code",
   "execution_count": 11,
   "id": "5ab2dbe9",
   "metadata": {},
   "outputs": [
    {
     "data": {
      "text/plain": [
       "array([0.64, 0.71, 0.59, 0.6 , 0.65, 0.68, 0.53, 0.6 , 0.7 , 0.65, 0.68,\n",
       "       0.65, 0.7 , 0.61, 0.69, 0.68, 0.68, 0.62, 0.67, 0.75, 0.63, 0.7 ,\n",
       "       0.61, 0.73, 0.61, 0.66, 0.64, 0.64, 0.66, 0.68, 0.62, 0.57, 0.64,\n",
       "       0.66, 0.61, 0.71, 0.7 , 0.61, 0.59, 0.63, 0.66, 0.65, 0.55, 0.65,\n",
       "       0.67, 0.66, 0.66, 0.57, 0.7 , 0.67, 0.65, 0.7 , 0.71, 0.61, 0.61,\n",
       "       0.71, 0.68, 0.55, 0.6 , 0.62, 0.63, 0.6 , 0.69, 0.67, 0.63, 0.64,\n",
       "       0.62, 0.66, 0.7 , 0.64, 0.61, 0.55, 0.71, 0.67, 0.65, 0.68, 0.65,\n",
       "       0.65, 0.63, 0.71, 0.62, 0.6 , 0.64, 0.65, 0.61, 0.68, 0.62, 0.66,\n",
       "       0.61, 0.6 , 0.68, 0.73, 0.71, 0.66, 0.62, 0.64, 0.63, 0.68, 0.62,\n",
       "       0.56, 0.57, 0.76, 0.65, 0.58, 0.65, 0.66, 0.61, 0.63, 0.7 , 0.62,\n",
       "       0.61, 0.64, 0.68, 0.64, 0.68, 0.65, 0.61, 0.61, 0.69, 0.71, 0.71,\n",
       "       0.59, 0.61, 0.72, 0.65, 0.75, 0.64, 0.73, 0.6 , 0.66, 0.67, 0.62,\n",
       "       0.69, 0.67, 0.66, 0.63, 0.64, 0.66, 0.66, 0.68, 0.61, 0.66, 0.6 ,\n",
       "       0.69, 0.62, 0.65, 0.61, 0.71, 0.67, 0.63, 0.65, 0.77, 0.54, 0.59,\n",
       "       0.62, 0.63, 0.64, 0.66, 0.7 , 0.63, 0.63, 0.61, 0.69, 0.68, 0.67,\n",
       "       0.67, 0.7 , 0.66, 0.66, 0.63, 0.7 , 0.66, 0.7 , 0.64, 0.64, 0.65,\n",
       "       0.76, 0.63, 0.64, 0.59, 0.65, 0.65, 0.67, 0.62, 0.69, 0.61, 0.64,\n",
       "       0.68, 0.59, 0.67, 0.72, 0.62, 0.62, 0.7 , 0.7 , 0.65, 0.7 , 0.6 ,\n",
       "       0.75, 0.61, 0.68, 0.73, 0.61, 0.61, 0.67, 0.74, 0.67, 0.61, 0.65,\n",
       "       0.64, 0.74, 0.62, 0.51, 0.65, 0.66, 0.71, 0.64, 0.69, 0.73, 0.6 ])"
      ]
     },
     "execution_count": 11,
     "metadata": {},
     "output_type": "execute_result"
    }
   ],
   "source": [
    "surveys = [ask_survey(100) for _ in range(220)]\n",
    "theta_hats = np.array([np.mean(survey) for survey in surveys])\n",
    "\n",
    "theta_hats\n"
   ]
  },
  {
   "cell_type": "code",
   "execution_count": 12,
   "id": "78031638",
   "metadata": {},
   "outputs": [
    {
     "name": "stdout",
     "output_type": "stream",
     "text": [
      "z_alpha = 1.2815515655446004\n",
      "quantile = -1.2815515655446004\n"
     ]
    }
   ],
   "source": [
    "Z = stats.norm(0, 1)\n",
    "alpha = 0.1\n",
    "print(f'z_alpha = {Z.ppf(1-alpha)}')  # z_alpha\n",
    "print(f'quantile = {Z.ppf(alpha)}')  # quantile\n"
   ]
  },
  {
   "cell_type": "markdown",
   "id": "627a01fa",
   "metadata": {},
   "source": [
    "## WED, Jan 24th"
   ]
  },
  {
   "cell_type": "markdown",
   "id": "b5fab6b5",
   "metadata": {},
   "source": [
    "in this class we go through how to compute confidence intervals, interpretation of alpha,coverage probability and confidence internvals for difference of 2 proportions. we also give the example using hw-0 data."
   ]
  },
  {
   "cell_type": "markdown",
   "id": "d8ba99c5",
   "metadata": {},
   "source": [
    "interpretation of alpha: error thats going to make,1-a is how confident we are"
   ]
  },
  {
   "cell_type": "markdown",
   "id": "6ee78d01",
   "metadata": {},
   "source": [
    "interpretation of confidence interval: if repeat this experiment many times, the converge probability is going to be 1-a."
   ]
  },
  {
   "cell_type": "code",
   "execution_count": 17,
   "id": "1ac679db",
   "metadata": {},
   "outputs": [
    {
     "data": {
      "application/vnd.jupyter.widget-view+json": {
       "model_id": "6c1f21e9a910452ebf9bf5fc5cb09cd8",
       "version_major": 2,
       "version_minor": 0
      },
      "text/plain": [
       "interactive(children=(FloatSlider(value=0.5, description='alpha', max=0.99, min=0.01, step=0.01), Output()), _…"
      ]
     },
     "metadata": {},
     "output_type": "display_data"
    },
    {
     "data": {
      "text/plain": [
       "<function __main__.z_alpha_plot(alpha)>"
      ]
     },
     "execution_count": 17,
     "metadata": {},
     "output_type": "execute_result"
    }
   ],
   "source": [
    "def z_alpha_plot(alpha):\n",
    "    X_normal = stats.norm(0, 1)  \n",
    "    fig, axes = plt.subplots(1, 2, figsize=(12, 4))  \n",
    "\n",
    "    x_range = np.linspace(-3.5, 3.5, 100)\n",
    "    axes[0].plot(x_range, X_normal.pdf(x_range))\n",
    "    axes[1].plot(x_range, X_normal.pdf(x_range))\n",
    "\n",
    "    z_alpha = X_normal.ppf(alpha/2)  # Left critical value (negative)\n",
    "    z_alpha_2 = X_normal.ppf(1 - alpha/2)  # Right critical value (positive)\n",
    "    \n",
    "    axes[0].axvline(z_alpha, color='red', linestyle='--')\n",
    "    axes[0].set_title(f'Left-tail critical value (z={z_alpha:.2f})')\n",
    "    \n",
    "    axes[1].axvline(z_alpha_2, color='red', linestyle='--')\n",
    "    axes[1].set_title(f'Right-tail critical value (z={z_alpha_2:.2f})')\n",
    "    \n",
    "    \n",
    "    x_fill_left = np.linspace(-3.5, z_alpha, 100)\n",
    "    axes[0].fill_between(x_fill_left, 0, X_normal.pdf(x_fill_left), alpha=0.5, color='red')\n",
    "    \n",
    "    x_fill_right = np.linspace(z_alpha_2, 3.5, 100)\n",
    "    axes[1].fill_between(x_fill_right, 0, X_normal.pdf(x_fill_right), alpha=0.5, color='red')\n",
    "\n",
    "    plt.show()\n",
    "\n",
    "interact(z_alpha_plot, alpha=(0.01, 0.99, 0.01))\n"
   ]
  },
  {
   "cell_type": "code",
   "execution_count": 18,
   "id": "06375d68",
   "metadata": {},
   "outputs": [],
   "source": [
    "def CI_1proportion(sample, alpha):\n",
    "    n = len(sample) \n",
    "    Z = stats.norm(0, 1) \n",
    "    z_alpha_by_2 = Z.ppf(1 - alpha/2)  # Z-critical value for two-tailed test\n",
    "\n",
    "    theta_hat = np.mean(sample)  # Estimated proportion (mean of the sample)\n",
    "    se = np.sqrt(theta_hat * (1 - theta_hat) / n)  # Standard error for the proportion\n",
    "    ci = np.array([-1, 1]) * z_alpha_by_2 * se + theta_hat  # Confidence interval\n",
    "    \n",
    "    return ci"
   ]
  },
  {
   "cell_type": "code",
   "execution_count": 20,
   "id": "659a0f4e",
   "metadata": {},
   "outputs": [
    {
     "data": {
      "text/plain": [
       "array([0.54592173, 0.73407827])"
      ]
     },
     "execution_count": 20,
     "metadata": {},
     "output_type": "execute_result"
    }
   ],
   "source": [
    "alpha = 0.05\n",
    "CI_1proportion(surveys[0], alpha)"
   ]
  },
  {
   "cell_type": "code",
   "execution_count": 21,
   "id": "c54318ba",
   "metadata": {},
   "outputs": [
    {
     "data": {
      "text/plain": [
       "[array([0.54592173, 0.73407827]),\n",
       " array([0.62106427, 0.79893573]),\n",
       " array([0.49360244, 0.68639756]),\n",
       " array([0.50398177, 0.69601823]),\n",
       " array([0.55651568, 0.74348432]),\n",
       " array([0.58857235, 0.77142765]),\n",
       " array([0.43217836, 0.62782164]),\n",
       " array([0.50398177, 0.69601823]),\n",
       " array([0.61018317, 0.78981683]),\n",
       " array([0.55651568, 0.74348432]),\n",
       " array([0.58857235, 0.77142765]),\n",
       " array([0.55651568, 0.74348432]),\n",
       " array([0.61018317, 0.78981683]),\n",
       " array([0.51440277, 0.70559723]),\n",
       " array([0.59935299, 0.78064701]),\n",
       " array([0.58857235, 0.77142765]),\n",
       " array([0.58857235, 0.77142765]),\n",
       " array([0.52486601, 0.71513399]),\n",
       " array([0.57784, 0.76216]),\n",
       " array([0.66513107, 0.83486893]),\n",
       " array([0.53537209, 0.72462791]),\n",
       " array([0.61018317, 0.78981683]),\n",
       " array([0.51440277, 0.70559723]),\n",
       " array([0.64298555, 0.81701445]),\n",
       " array([0.51440277, 0.70559723]),\n",
       " array([0.56715479, 0.75284521]),\n",
       " array([0.54592173, 0.73407827]),\n",
       " array([0.54592173, 0.73407827]),\n",
       " array([0.56715479, 0.75284521]),\n",
       " array([0.58857235, 0.77142765]),\n",
       " array([0.52486601, 0.71513399]),\n",
       " array([0.47296694, 0.66703306]),\n",
       " array([0.54592173, 0.73407827]),\n",
       " array([0.56715479, 0.75284521]),\n",
       " array([0.51440277, 0.70559723]),\n",
       " array([0.62106427, 0.79893573]),\n",
       " array([0.61018317, 0.78981683]),\n",
       " array([0.51440277, 0.70559723]),\n",
       " array([0.49360244, 0.68639756]),\n",
       " array([0.53537209, 0.72462791]),\n",
       " array([0.56715479, 0.75284521]),\n",
       " array([0.55651568, 0.74348432]),\n",
       " array([0.45249302, 0.64750698]),\n",
       " array([0.55651568, 0.74348432]),\n",
       " array([0.57784, 0.76216]),\n",
       " array([0.56715479, 0.75284521]),\n",
       " array([0.56715479, 0.75284521]),\n",
       " array([0.47296694, 0.66703306]),\n",
       " array([0.61018317, 0.78981683]),\n",
       " array([0.57784, 0.76216]),\n",
       " array([0.55651568, 0.74348432]),\n",
       " array([0.61018317, 0.78981683]),\n",
       " array([0.62106427, 0.79893573]),\n",
       " array([0.51440277, 0.70559723]),\n",
       " array([0.51440277, 0.70559723]),\n",
       " array([0.62106427, 0.79893573]),\n",
       " array([0.58857235, 0.77142765]),\n",
       " array([0.45249302, 0.64750698]),\n",
       " array([0.50398177, 0.69601823]),\n",
       " array([0.52486601, 0.71513399]),\n",
       " array([0.53537209, 0.72462791]),\n",
       " array([0.50398177, 0.69601823]),\n",
       " array([0.59935299, 0.78064701]),\n",
       " array([0.57784, 0.76216]),\n",
       " array([0.53537209, 0.72462791]),\n",
       " array([0.54592173, 0.73407827]),\n",
       " array([0.52486601, 0.71513399]),\n",
       " array([0.56715479, 0.75284521]),\n",
       " array([0.61018317, 0.78981683]),\n",
       " array([0.54592173, 0.73407827]),\n",
       " array([0.51440277, 0.70559723]),\n",
       " array([0.45249302, 0.64750698]),\n",
       " array([0.62106427, 0.79893573]),\n",
       " array([0.57784, 0.76216]),\n",
       " array([0.55651568, 0.74348432]),\n",
       " array([0.58857235, 0.77142765]),\n",
       " array([0.55651568, 0.74348432]),\n",
       " array([0.55651568, 0.74348432]),\n",
       " array([0.53537209, 0.72462791]),\n",
       " array([0.62106427, 0.79893573]),\n",
       " array([0.52486601, 0.71513399]),\n",
       " array([0.50398177, 0.69601823]),\n",
       " array([0.54592173, 0.73407827]),\n",
       " array([0.55651568, 0.74348432]),\n",
       " array([0.51440277, 0.70559723]),\n",
       " array([0.58857235, 0.77142765]),\n",
       " array([0.52486601, 0.71513399]),\n",
       " array([0.56715479, 0.75284521]),\n",
       " array([0.51440277, 0.70559723]),\n",
       " array([0.50398177, 0.69601823]),\n",
       " array([0.58857235, 0.77142765]),\n",
       " array([0.64298555, 0.81701445]),\n",
       " array([0.62106427, 0.79893573]),\n",
       " array([0.56715479, 0.75284521]),\n",
       " array([0.52486601, 0.71513399]),\n",
       " array([0.54592173, 0.73407827]),\n",
       " array([0.53537209, 0.72462791]),\n",
       " array([0.58857235, 0.77142765]),\n",
       " array([0.52486601, 0.71513399]),\n",
       " array([0.46270995, 0.65729005]),\n",
       " array([0.47296694, 0.66703306]),\n",
       " array([0.67629324, 0.84370676]),\n",
       " array([0.55651568, 0.74348432]),\n",
       " array([0.48326431, 0.67673569]),\n",
       " array([0.55651568, 0.74348432]),\n",
       " array([0.56715479, 0.75284521]),\n",
       " array([0.51440277, 0.70559723]),\n",
       " array([0.53537209, 0.72462791]),\n",
       " array([0.61018317, 0.78981683]),\n",
       " array([0.52486601, 0.71513399]),\n",
       " array([0.51440277, 0.70559723]),\n",
       " array([0.54592173, 0.73407827]),\n",
       " array([0.58857235, 0.77142765]),\n",
       " array([0.54592173, 0.73407827]),\n",
       " array([0.58857235, 0.77142765]),\n",
       " array([0.55651568, 0.74348432]),\n",
       " array([0.51440277, 0.70559723]),\n",
       " array([0.51440277, 0.70559723]),\n",
       " array([0.59935299, 0.78064701]),\n",
       " array([0.62106427, 0.79893573]),\n",
       " array([0.62106427, 0.79893573]),\n",
       " array([0.49360244, 0.68639756]),\n",
       " array([0.51440277, 0.70559723]),\n",
       " array([0.63199784, 0.80800216]),\n",
       " array([0.55651568, 0.74348432]),\n",
       " array([0.66513107, 0.83486893]),\n",
       " array([0.54592173, 0.73407827]),\n",
       " array([0.64298555, 0.81701445]),\n",
       " array([0.50398177, 0.69601823]),\n",
       " array([0.56715479, 0.75284521]),\n",
       " array([0.57784, 0.76216]),\n",
       " array([0.52486601, 0.71513399]),\n",
       " array([0.59935299, 0.78064701]),\n",
       " array([0.57784, 0.76216]),\n",
       " array([0.56715479, 0.75284521]),\n",
       " array([0.53537209, 0.72462791]),\n",
       " array([0.54592173, 0.73407827]),\n",
       " array([0.56715479, 0.75284521]),\n",
       " array([0.56715479, 0.75284521]),\n",
       " array([0.58857235, 0.77142765]),\n",
       " array([0.51440277, 0.70559723]),\n",
       " array([0.56715479, 0.75284521]),\n",
       " array([0.50398177, 0.69601823]),\n",
       " array([0.59935299, 0.78064701]),\n",
       " array([0.52486601, 0.71513399]),\n",
       " array([0.55651568, 0.74348432]),\n",
       " array([0.51440277, 0.70559723]),\n",
       " array([0.62106427, 0.79893573]),\n",
       " array([0.57784, 0.76216]),\n",
       " array([0.53537209, 0.72462791]),\n",
       " array([0.55651568, 0.74348432]),\n",
       " array([0.68751834, 0.85248166]),\n",
       " array([0.4423159, 0.6376841]),\n",
       " array([0.49360244, 0.68639756]),\n",
       " array([0.52486601, 0.71513399]),\n",
       " array([0.53537209, 0.72462791]),\n",
       " array([0.54592173, 0.73407827]),\n",
       " array([0.56715479, 0.75284521]),\n",
       " array([0.61018317, 0.78981683]),\n",
       " array([0.53537209, 0.72462791]),\n",
       " array([0.53537209, 0.72462791]),\n",
       " array([0.51440277, 0.70559723]),\n",
       " array([0.59935299, 0.78064701]),\n",
       " array([0.58857235, 0.77142765]),\n",
       " array([0.57784, 0.76216]),\n",
       " array([0.57784, 0.76216]),\n",
       " array([0.61018317, 0.78981683]),\n",
       " array([0.56715479, 0.75284521]),\n",
       " array([0.56715479, 0.75284521]),\n",
       " array([0.53537209, 0.72462791]),\n",
       " array([0.61018317, 0.78981683]),\n",
       " array([0.56715479, 0.75284521]),\n",
       " array([0.61018317, 0.78981683]),\n",
       " array([0.54592173, 0.73407827]),\n",
       " array([0.54592173, 0.73407827]),\n",
       " array([0.55651568, 0.74348432]),\n",
       " array([0.67629324, 0.84370676]),\n",
       " array([0.53537209, 0.72462791]),\n",
       " array([0.54592173, 0.73407827]),\n",
       " array([0.49360244, 0.68639756]),\n",
       " array([0.55651568, 0.74348432]),\n",
       " array([0.55651568, 0.74348432]),\n",
       " array([0.57784, 0.76216]),\n",
       " array([0.52486601, 0.71513399]),\n",
       " array([0.59935299, 0.78064701]),\n",
       " array([0.51440277, 0.70559723]),\n",
       " array([0.54592173, 0.73407827]),\n",
       " array([0.58857235, 0.77142765]),\n",
       " array([0.49360244, 0.68639756]),\n",
       " array([0.57784, 0.76216]),\n",
       " array([0.63199784, 0.80800216]),\n",
       " array([0.52486601, 0.71513399]),\n",
       " array([0.52486601, 0.71513399]),\n",
       " array([0.61018317, 0.78981683]),\n",
       " array([0.61018317, 0.78981683]),\n",
       " array([0.55651568, 0.74348432]),\n",
       " array([0.61018317, 0.78981683]),\n",
       " array([0.50398177, 0.69601823]),\n",
       " array([0.66513107, 0.83486893]),\n",
       " array([0.51440277, 0.70559723]),\n",
       " array([0.58857235, 0.77142765]),\n",
       " array([0.64298555, 0.81701445]),\n",
       " array([0.51440277, 0.70559723]),\n",
       " array([0.51440277, 0.70559723]),\n",
       " array([0.57784, 0.76216]),\n",
       " array([0.65402927, 0.82597073]),\n",
       " array([0.57784, 0.76216]),\n",
       " array([0.51440277, 0.70559723]),\n",
       " array([0.55651568, 0.74348432]),\n",
       " array([0.54592173, 0.73407827]),\n",
       " array([0.65402927, 0.82597073]),\n",
       " array([0.52486601, 0.71513399]),\n",
       " array([0.4120214, 0.6079786]),\n",
       " array([0.55651568, 0.74348432]),\n",
       " array([0.56715479, 0.75284521]),\n",
       " array([0.62106427, 0.79893573]),\n",
       " array([0.54592173, 0.73407827]),\n",
       " array([0.59935299, 0.78064701]),\n",
       " array([0.64298555, 0.81701445]),\n",
       " array([0.50398177, 0.69601823])]"
      ]
     },
     "execution_count": 21,
     "metadata": {},
     "output_type": "execute_result"
    }
   ],
   "source": [
    "[CI_1proportion(survey, alpha) for survey in surveys]"
   ]
  },
  {
   "cell_type": "code",
   "execution_count": 22,
   "id": "66325ab9",
   "metadata": {},
   "outputs": [
    {
     "data": {
      "image/png": "[encoded data removed]",
      "text/plain": [
       "<Figure size 1080x216 with 1 Axes>"
      ]
     },
     "metadata": {
      "needs_background": "light"
     },
     "output_type": "display_data"
    }
   ],
   "source": [
    "fig, ax = plt.subplots(1, 1, figsize=(15, 3))\n",
    "\n",
    "cis = [CI_1proportion(survey, alpha) for survey in surveys]\n",
    "\n",
    "\n",
    "ax.axhline(y=theta_true, color='red', linestyle='--')\n",
    "ax.set_ylabel(r'CI($\\theta$, 0.05)')\n",
    "\n",
    "for i, ci in enumerate(cis):\n",
    "    cl = 'black' if ci[0] <= theta_true <= ci[1] else 'red'\n",
    "    ax.plot([i, i], ci, color=cl, linewidth=1.0)\n",
    "    \n",
    "plt.show()"
   ]
  },
  {
   "cell_type": "code",
   "execution_count": 23,
   "id": "0dc25c99",
   "metadata": {},
   "outputs": [
    {
     "data": {
      "text/plain": [
       "0.95"
      ]
     },
     "execution_count": 23,
     "metadata": {},
     "output_type": "execute_result"
    }
   ],
   "source": [
    "coverage = np.mean([ci[0] <= theta_true <= ci[1] for ci in cis])\n",
    "coverage"
   ]
  },
  {
   "cell_type": "code",
   "execution_count": 24,
   "id": "a9de987d",
   "metadata": {},
   "outputs": [
    {
     "name": "stdout",
     "output_type": "stream",
     "text": [
      "0.953\n"
     ]
    }
   ],
   "source": [
    "num_respondents, num_surveys = 1000, 10000\n",
    "surveys = [ask_survey(num_respondents) for _ in range(num_surveys)]\n",
    "cis = [CI_1proportion(survey, alpha) for survey in surveys]\n",
    "coverage = np.mean([ci[0] <= theta_true <= ci[1] for ci in cis])\n",
    "print(coverage)\n"
   ]
  },
  {
   "cell_type": "markdown",
   "id": "cb4a0dff",
   "metadata": {},
   "source": [
    "The proportion of times that the true parameter ($\\theta$) lies in the interval ($\\l_a$), ($\\u_a$) is called the coverage probability of the interval."
   ]
  },
  {
   "cell_type": "markdown",
   "id": "1cbae90a",
   "metadata": {},
   "source": [
    "### 2.3 confidence internvals for difference of 2 proportions"
   ]
  },
  {
   "cell_type": "markdown",
   "id": "4a1aa004",
   "metadata": {},
   "source": [
    "Let:\n",
    "* $X_1, X_2, \\ldots, X_n \\sim \\text{Ber}(\\theta_X)$ be a random sample of size $n$ from a population with proportion $\\theta_X$.\n",
    "* $Y_1, Y_2, \\ldots, Y_m \\sim \\text{Ber}(\\theta_Y)$ be a random sample of size $m$ from a population with proportion $\\theta_Y$.\n",
    "\n",
    "Then:\n",
    "* The parameter of interest is $\\theta_X - \\theta_Y$.\n",
    "* The statistic of interest is $\\hat{\\theta}_X - \\hat{\\theta}_Y$.\n",
    "\n",
    "The **$100 \\times (1-\\alpha)\\%$ confidence interval** for $\\theta_X - \\theta_Y$ is given by\n",
    "\n",
    "$$\n",
    "\\begin{aligned}\n",
    "CI(\\theta_X - \\theta_Y, \\alpha) &= \\left[\\hat{\\theta}_X - \\hat{\\theta}_Y - z_{\\alpha/2} \\cdot SE, \\right.\\\\\n",
    "&\\quad \\left. \\hat{\\theta}_X - \\hat{\\theta}_Y + z_{\\alpha/2} \\cdot SE\\right]\n",
    "\\end{aligned}\n",
    "$$\n",
    "\n"
   ]
  },
  {
   "cell_type": "markdown",
   "id": "6d912558",
   "metadata": {},
   "source": [
    "The true value of $\\theta$ is\n",
    "\n",
    "$$\n",
    "\\theta = \\theta_X - \\theta_Y = 0.646 - 0.628 = 0.018.\n",
    "$$\n",
    "\n",
    "The sample estimator is\n",
    "\n",
    "$$\n",
    "\\hat{\\theta} = \\hat{\\theta}_X - \\hat{\\theta}_Y = \\bar{X} - \\bar{Y}.\n",
    "$$\n"
   ]
  },
  {
   "cell_type": "markdown",
   "id": "8ad277fc",
   "metadata": {},
   "source": [
    "## Fri, Jan 26th"
   ]
  },
  {
   "cell_type": "markdown",
   "id": "170974e1",
   "metadata": {},
   "source": [
    "The $\\alpha$ quantile, denoted by $q_{\\alpha}$ for any distribution $F$ is such that\n",
    "\n",
    "$$\n",
    "\\Pr(X \\le q_{\\alpha}) = \\alpha\n",
    "$$"
   ]
  },
  {
   "cell_type": "code",
   "execution_count": 32,
   "id": "049614d2",
   "metadata": {},
   "outputs": [
    {
     "name": "stdout",
     "output_type": "stream",
     "text": [
      "Defaulting to user installation because normal site-packages is not writeable\n",
      "Requirement already satisfied: statsmodels in /opt/conda/lib/python3.9/site-packages (0.14.0)\n",
      "Requirement already satisfied: scipy!=1.9.2,>=1.4 in /opt/conda/lib/python3.9/site-packages (from statsmodels) (1.7.0)\n",
      "Requirement already satisfied: pandas>=1.0 in /opt/conda/lib/python3.9/site-packages (from statsmodels) (2.0.3)\n",
      "Requirement already satisfied: packaging>=21.3 in /opt/conda/lib/python3.9/site-packages (from statsmodels) (23.2)\n",
      "Requirement already satisfied: numpy>=1.18 in /opt/conda/lib/python3.9/site-packages (from statsmodels) (1.22.4)\n",
      "Requirement already satisfied: patsy>=0.5.2 in /opt/conda/lib/python3.9/site-packages (from statsmodels) (0.5.6)\n",
      "Requirement already satisfied: python-dateutil>=2.8.2 in /opt/conda/lib/python3.9/site-packages (from pandas>=1.0->statsmodels) (2.8.2)\n",
      "Requirement already satisfied: tzdata>=2022.1 in /opt/conda/lib/python3.9/site-packages (from pandas>=1.0->statsmodels) (2023.4)\n",
      "Requirement already satisfied: pytz>=2020.1 in /opt/conda/lib/python3.9/site-packages (from pandas>=1.0->statsmodels) (2021.1)\n",
      "Requirement already satisfied: six in /opt/conda/lib/python3.9/site-packages (from patsy>=0.5.2->statsmodels) (1.16.0)\n"
     ]
    }
   ],
   "source": [
    "!pip install statsmodels\n",
    "\n",
    "import statsmodels.api as sm\n",
    "import statsmodels.formula.api as smf\n"
   ]
  },
  {
   "cell_type": "code",
   "execution_count": 33,
   "id": "78f6de67",
   "metadata": {},
   "outputs": [
    {
     "name": "stdout",
     "output_type": "stream",
     "text": [
      "Our method: [0.62106427 0.79893573]\n",
      "Statsmodels api: (0.6210642720173202, 0.7989357279826798)\n"
     ]
    }
   ],
   "source": [
    "x_vector = ask_survey(100)\n",
    "\n",
    "our_result = CI_1proportion(x_vector, alpha=0.05)\n",
    "print(f'Our method: {our_result}')\n",
    "\n",
    "sm_result = sm.stats.proportion_confint(np.sum(x_vector), len(x_vector), alpha=0.05)\n",
    "print(f'Statsmodels api: {sm_result}')\n"
   ]
  },
  {
   "cell_type": "code",
   "execution_count": 34,
   "id": "fc73c2b8",
   "metadata": {},
   "outputs": [
    {
     "data": {
      "text/plain": [
       "<function statsmodels.stats.proportion.confint_proportions_2indep(count1, nobs1, count2, nobs2, method=None, compare='diff', alpha=0.05, correction=True)>"
      ]
     },
     "execution_count": 34,
     "metadata": {},
     "output_type": "execute_result"
    }
   ],
   "source": [
    "sm.stats.confint_proportions_2indep"
   ]
  },
  {
   "cell_type": "code",
   "execution_count": null,
   "id": "3d0a6350",
   "metadata": {},
   "outputs": [],
   "source": [
    "our_result = CI_2proportion(data, alpha=0.05)\n",
    "print(f'Our method: {our_result}')\n",
    "\n",
    "sm_result = sm.stats.confint_proportions_2indep(\n",
    "    np.sum(data['x']),\n",
    "    len(data['x']),\n",
    "    np.sum(data['y']),\n",
    "    len(data['y']),\n",
    "    alpha=0.05,\n",
    "    method='wald') #defalut is newcomb\n",
    "#wald is base on CLT\n",
    "print(f'Statsmodels api: {sm_result}')"
   ]
  },
  {
   "cell_type": "markdown",
   "id": "15d6f706",
   "metadata": {},
   "source": [
    "Let $X_1, X_2, \\ldots, X_n \\sim \\mathcal{N}(\\mu, \\sigma^2)$ be a random sample of size $n$ from a population with mean $\\mu$ and variance $\\sigma^2$.\n",
    "\n",
    "Let:\n",
    "- The sample mean be $\\bar{x} = \\frac{1}{n} \\sum_{i=1}^{n} X_i$\n",
    "- The sample variance be $s^2 = \\frac{1}{n-1} \\sum_{i=1}^{n} (X_i - \\bar{X})^2$\n",
    "\n",
    "When $\\sigma^2$ is known\n",
    "\n",
    "The $100 \\times (1 - \\alpha)\\%$ confidence interval for $\\mu$ is given by:\n",
    "\n",
    "$$\n",
    "CI(\\mu, \\alpha) = \\left[ \\bar{x} - z_{\\alpha/2} \\cdot SE, \\bar{x} + z_{\\alpha/2} \\cdot SE \\right]\n",
    "$$\n",
    "\n",
    "where\n",
    "\n",
    "$$\n",
    "SE = \\frac{\\sigma}{\\sqrt{n}}\n",
    "$$\n"
   ]
  },
  {
   "cell_type": "code",
   "execution_count": 38,
   "id": "3f386c35",
   "metadata": {},
   "outputs": [
    {
     "data": {
      "text/plain": [
       "array([ 5.78056967,  7.97515483,  2.28201347,  6.63279942,  5.78203606,\n",
       "       11.90579121,  6.28044246,  8.09055886,  5.24070688,  7.70436987,\n",
       "       11.31867914, 12.00716296,  6.60059398,  8.97029839,  5.91813457,\n",
       "        6.71287794,  8.89480222,  5.25876996,  6.16266196,  3.84661967])"
      ]
     },
     "execution_count": 38,
     "metadata": {},
     "output_type": "execute_result"
    }
   ],
   "source": [
    "mu_true = 7.2\n",
    "\n",
    "def sleep_survey(n):\n",
    "    return stats.norm.rvs(mu_true, 2.5, size=n)\n",
    "\n",
    "survey = sleep_survey(20)\n",
    "survey\n"
   ]
  },
  {
   "cell_type": "code",
   "execution_count": 39,
   "id": "36511f36",
   "metadata": {},
   "outputs": [
    {
     "data": {
      "text/plain": [
       "(7.2, 7.168252176392391)"
      ]
     },
     "execution_count": 39,
     "metadata": {},
     "output_type": "execute_result"
    }
   ],
   "source": [
    "mu_true,np.mean(survey)"
   ]
  },
  {
   "cell_type": "code",
   "execution_count": 41,
   "id": "558c2790",
   "metadata": {},
   "outputs": [
    {
     "data": {
      "text/plain": [
       "array([5.98523894, 8.35126541])"
      ]
     },
     "execution_count": 41,
     "metadata": {},
     "output_type": "execute_result"
    }
   ],
   "source": [
    "def CI_1mean(data, alpha=0.05, method='t'):\n",
    "    n = len(data)\n",
    "    q_alpha_by_2 = stats.t(n-1).ppf(1-alpha/2) if method == 't' else stats.norm(0, 1).ppf(1-alpha/2)\n",
    "    \n",
    "    mu_hat = np.mean(data)\n",
    "    se = np.std(data, ddof=1) / np.sqrt(n)\n",
    "    ci = np.array([-1, 1]) * q_alpha_by_2 * se + mu_hat\n",
    "    \n",
    "    return ci\n",
    "\n",
    "CI_1mean(survey, alpha=0.05)\n"
   ]
  },
  {
   "cell_type": "code",
   "execution_count": 42,
   "id": "df6f0d5b",
   "metadata": {},
   "outputs": [],
   "source": [
    "np.std?"
   ]
  },
  {
   "cell_type": "code",
   "execution_count": 43,
   "id": "fac6548b",
   "metadata": {},
   "outputs": [
    {
     "data": {
      "image/png": "[encoded data removed]",
      "text/plain": [
       "<Figure size 1080x216 with 1 Axes>"
      ]
     },
     "metadata": {
      "needs_background": "light"
     },
     "output_type": "display_data"
    },
    {
     "name": "stdout",
     "output_type": "stream",
     "text": [
      "0.924\n"
     ]
    }
   ],
   "source": [
    "\n",
    "\n",
    "num_respondents, num_surveys = 10, 250\n",
    "surveys = [sleep_survey(num_respondents) for _ in range(num_surveys)]\n",
    "cis = [CI_1mean(survey, alpha=0.05) for survey in surveys]\n",
    "\n",
    "fig, ax = plt.subplots(1, 1, figsize=(15, 3))\n",
    "\n",
    "ax.axhline(y=mu_true, color='red', linestyle='--')\n",
    "ax.set_ylabel(r'CI($\\mu$, 0.05)')\n",
    "ax.set_xlabel('Survey number')\n",
    "\n",
    "for i, ci in enumerate(cis):\n",
    "    cl = 'black' if ci[0] <= mu_true <= ci[1] else 'red'\n",
    "    ax.plot([i, i], ci, color=cl, linewidth=1.0)\n",
    "\n",
    "plt.show()\n",
    "\n",
    "coverage = np.mean([ci[0] <= mu_true <= ci[1] for ci in cis])\n",
    "print(coverage)\n"
   ]
  },
  {
   "cell_type": "markdown",
   "id": "0d902502",
   "metadata": {},
   "source": [
    "### 2.6 confidence intervals for difference of two means"
   ]
  },
  {
   "cell_type": "markdown",
   "id": "27b180d6",
   "metadata": {},
   "source": [
    "- Let $X_1, X_2, ..., X_n \\sim N(\\mu_X,\\sigma_X^2)$ be a random sample of size $n$ from a population with mean $\\mu_X$ and variance $\\sigma_X^2$.\n",
    "- Let $Y_1, Y_2, ..., Y_m \\sim N(\\mu_Y,\\sigma_Y^2)$ be a random sample of size $m$ from a population with mean $\\mu_Y$ and variance $\\sigma_Y^2$.\n",
    "\n",
    "**Confidence interval** for $\\mu_X - \\mu_Y$\n",
    "\n",
    "The $100 \\times (1-\\alpha)\\%$ **confidence interval** for $\\mu_X - \\mu_Y$ is given by\n",
    "$$CI(\\mu_X - \\mu_Y, \\alpha) = [(\\mu_X - \\mu_Y) - t_{n+m-2;\\alpha/2} \\times \\text{SE}, (\\mu_X - \\mu_Y) + t_{n+m-2;\\alpha/2} \\times \\text{SE}]$$\n",
    "where $$\\text{SE} = \\sqrt{\\frac{\\hat {\\sigma}_X^2}{n} + \\frac{\\hat {\\sigma}_Y^2}{m}},$$\n",
    "and\n",
    "$$\\hat {\\sigma}_X^2 = \\frac{1}{n-1}\\sum_{i=1}^{n}(X_i - \\bar{X})^2 \\text{ is the sample variance of X}$$\n",
    "$$\\hat {\\sigma}_Y^2 = \\frac{1}{m-1}\\sum_{i=1}^{m}(Y_i - \\bar{Y})^2 \\text{ is the sample variance of Y}$$"
   ]
  },
  {
   "cell_type": "code",
   "execution_count": null,
   "id": "fd7c4832",
   "metadata": {},
   "outputs": [],
   "source": []
  }
 ],
 "metadata": {
  "kernelspec": {
   "display_name": "Python 3 (ipykernel)",
   "language": "python",
   "name": "python3"
  },
  "language_info": {
   "codemirror_mode": {
    "name": "ipython",
    "version": 3
   },
   "file_extension": ".py",
   "mimetype": "text/x-python",
   "name": "python",
   "nbconvert_exporter": "python",
   "pygments_lexer": "ipython3",
   "version": "3.9.5"
  }
 },
 "nbformat": 4,
 "nbformat_minor": 5
}
